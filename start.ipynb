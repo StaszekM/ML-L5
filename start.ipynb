{
 "cells": [
  {
   "cell_type": "code",
   "execution_count": 6,
   "metadata": {},
   "outputs": [
    {
     "name": "stdout",
     "output_type": "stream",
     "text": [
      "The autoreload extension is already loaded. To reload it, use:\n",
      "  %reload_ext autoreload\n"
     ]
    }
   ],
   "source": [
    "%load_ext autoreload\n",
    "%autoreload 2"
   ]
  },
  {
   "cell_type": "code",
   "execution_count": 7,
   "metadata": {},
   "outputs": [],
   "source": [
    "from src.data_loader import load_seeds, load_glass\n",
    "from sklearn.datasets import load_iris, load_wine\n"
   ]
  },
  {
   "cell_type": "code",
   "execution_count": 8,
   "metadata": {},
   "outputs": [],
   "source": [
    "seeds_df, seeds_target = load_seeds()\n",
    "\n",
    "glass_df, glass_target = load_glass()\n",
    "\n",
    "wine_df, wine_target = load_wine(as_frame=True, return_X_y=True)\n",
    "\n",
    "iris_df, iris_target = load_iris(as_frame=True, return_X_y=True)\n"
   ]
  },
  {
   "cell_type": "code",
   "execution_count": 9,
   "metadata": {},
   "outputs": [
    {
     "name": "stdout",
     "output_type": "stream",
     "text": [
      "Cross val score on seeds: mean = 0.6523809523809524, std = 0.019047619047619018\n",
      "Cross val score on glass: mean = 0.47187153931339976, std = 0.014252625065954516\n",
      "Cross val score on wine: mean = 0.623174603174603, std = 0.054842131249982544\n",
      "Cross val score on iris: mean = 0.6666666666666666, std = 0.0\n"
     ]
    }
   ],
   "source": [
    "from src.common import get_score\n",
    "\n",
    "\n",
    "score = get_score(seeds_df, seeds_target, cross_val=True)\n",
    "print(f\"Cross val score on seeds: mean = {score.mean()}, std = {score.std()}\")\n",
    "\n",
    "score = get_score(glass_df, glass_target, cross_val=True)\n",
    "print(f\"Cross val score on glass: mean = {score.mean()}, std = {score.std()}\")\n",
    "\n",
    "score = get_score(wine_df, wine_target, cross_val=True)\n",
    "print(f\"Cross val score on wine: mean = {score.mean()}, std = {score.std()}\")\n",
    "\n",
    "score = get_score(iris_df, iris_target, cross_val=True)\n",
    "print(f\"Cross val score on iris: mean = {score.mean()}, std = {score.std()}\")\n"
   ]
  }
 ],
 "metadata": {
  "kernelspec": {
   "display_name": "env",
   "language": "python",
   "name": "python3"
  },
  "language_info": {
   "codemirror_mode": {
    "name": "ipython",
    "version": 3
   },
   "file_extension": ".py",
   "mimetype": "text/x-python",
   "name": "python",
   "nbconvert_exporter": "python",
   "pygments_lexer": "ipython3",
   "version": "3.10.6"
  },
  "orig_nbformat": 4
 },
 "nbformat": 4,
 "nbformat_minor": 2
}
